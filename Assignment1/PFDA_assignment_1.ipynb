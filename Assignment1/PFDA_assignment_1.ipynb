{
 "cells": [
  {
   "cell_type": "markdown",
   "metadata": {
    "id": "cZox-1hedQIZ"
   },
   "source": [
    "##Assignment 1: <font color='3C6E71'></font>\n",
    "\n",
    "\n",
    "####Total Points: 5 points)\n",
    "\\\n",
    "\n",
    "----\n",
    "**Objective:**\n",
    "\n",
    "In this assignment, you will choose a challenging dataset about univeristy students from Kaggle and conduct a detailed analysis using Python libraries: Pandas, NumPy, and Matplotlib.\n",
    "\n",
    "----\n",
    "\n",
    "**Instructions:**\n",
    "\n",
    "  **Dataset Selection:**\n",
    "\n",
    "Choose a dataset about university students that involves multiple variables and requires advanced analytical techniques.\n",
    "\n",
    "**Data Cleaning and Preparation:**\n",
    "\n",
    "Perform thorough data cleaning, including handling missing values, outliers, and data type conversions.\n",
    "Provide a summary of the cleaning process and the rationale behind each step.\n",
    "\n",
    "**Exploratory Data Analysis (EDA):**\n",
    "\n",
    "Use NumPy and Pandas to perform detailed exploratory data analysis.\n",
    "Calculate descriptive statistics and identify key relationships and trends within the data.\n",
    "\n",
    "**Advanced Data Manipulation:**\n",
    "\n",
    "Utilize advanced Pandas techniques such as groupby, pivot tables, and merging datasets to uncover deeper insights.\n",
    "Analyze correlations and provide a detailed interpretation of the findings.\n",
    "\n",
    "**Data Visualization:**\n",
    "\n",
    "Create at least five complex visualizations using Matplotlib that effectively communicate the key findings from your analysis (the vizualizations must be logically created).\n",
    "Include visualizations such as scatter plots, histograms, box plots, and heatmaps.\n",
    "\n",
    "**Comment:**\n",
    "\n",
    "Comment your code\n"
   ]
  }
 ],
 "metadata": {
  "colab": {
   "provenance": []
  },
  "kernelspec": {
   "display_name": "Python 3 (ipykernel)",
   "language": "python",
   "name": "python3"
  },
  "language_info": {
   "codemirror_mode": {
    "name": "ipython",
    "version": 3
   },
   "file_extension": ".py",
   "mimetype": "text/x-python",
   "name": "python",
   "nbconvert_exporter": "python",
   "pygments_lexer": "ipython3",
   "version": "3.12.4"
  }
 },
 "nbformat": 4,
 "nbformat_minor": 4
}
